{
 "cells": [
  {
   "cell_type": "code",
   "execution_count": 2,
   "metadata": {},
   "outputs": [],
   "source": [
    "# Python program for Detection of a  \n",
    "# specific color using OpenCV with Python \n",
    "import cv2 \n",
    "import numpy as np  \n",
    "  \n",
    "#You should change this from an absolute path to a local path on your machine. On my computer the video file is not in the same directory, this way I can save my code github, thats why im using an absolute path.\n",
    "#Cool trick, uncomment the line below and comment out the file path line and it will use your webcam instead of a video for testing!\n",
    "#cap = cv2.VideoCapture(0)\n",
    "cap = cv2.VideoCapture('C:\\\\Users\\\\Nick\\\\Desktop\\\\Carthage\\\\Thesis\\\\Nicholas Bartel Thesis\\\\GH040018_Trim_14_58_to_15_23.mp4')  \n",
    "  \n",
    "# This drives the program into an infinite loop. \n",
    "while(1):        \n",
    "    # Captures the live stream frame-by-frame \n",
    "    _, frame = cap.read()  \n",
    "    # Converts images from BGR to HSV\n",
    "    hsv = cv2.cvtColor(frame, cv2.COLOR_BGR2HSV) \n",
    "    \n",
    "    \n",
    "    #THESE TWO LINES ARE THE ONLY LINES YOU SHOULD NEED TO CHANGE!!!!!!!!!\n",
    "    #--------------------------------------------------------------------------------------------------------\n",
    "    lower_red = np.array([0,0,0]) #These are the lower limits of the mask\n",
    "    upper_red = np.array([100,255,255]) #These are the upper limits of the mask\n",
    "    #--------------------------------------------------------------------------------------------------------------\n",
    "\n",
    "    \n",
    "    # Here we are defining range of color in HSV color space\n",
    "    # This creates a mask \n",
    "    # objects found in the frame. \n",
    "    mask = cv2.inRange(hsv, lower_red, upper_red) \n",
    "  \n",
    "    #This here is boiler plate so no need to touch it\n",
    "    # The bitwise and of the frame and mask is done so  \n",
    "    # that only the blue coloured objects are highlighted  \n",
    "    # and stored in res \n",
    "    res = cv2.bitwise_and(frame,frame, mask= mask) \n",
    "    \n",
    "    cv2.namedWindow('frame',cv2.WINDOW_NORMAL)\n",
    "    cv2.resizeWindow('frame', 600,600)\n",
    "    cv2.imshow('frame',frame) \n",
    "    \n",
    "    cv2.namedWindow('mask',cv2.WINDOW_NORMAL)\n",
    "    cv2.resizeWindow('mask', 600,600)\n",
    "    cv2.imshow('mask',mask) \n",
    "    \n",
    "    cv2.namedWindow('res',cv2.WINDOW_NORMAL)\n",
    "    cv2.resizeWindow('res', 600,600)\n",
    "    cv2.imshow('res',res) \n",
    "  \n",
    "    # This displays the frame, mask  \n",
    "    # and res which we created in 3 separate windows. \n",
    "    k = cv2.waitKey(5) & 0xFF\n",
    "    if k == 27:\n",
    "        break\n",
    "  \n",
    "# Destroys all of the HighGUI windows. \n",
    "cv2.destroyAllWindows() \n",
    "  \n",
    "# release the captured frame \n",
    "cap.release() "
   ]
  },
  {
   "cell_type": "code",
   "execution_count": null,
   "metadata": {},
   "outputs": [],
   "source": []
  }
 ],
 "metadata": {
  "kernelspec": {
   "display_name": "Python 3",
   "language": "python",
   "name": "python3"
  },
  "language_info": {
   "codemirror_mode": {
    "name": "ipython",
    "version": 3
   },
   "file_extension": ".py",
   "mimetype": "text/x-python",
   "name": "python",
   "nbconvert_exporter": "python",
   "pygments_lexer": "ipython3",
   "version": "3.7.3"
  }
 },
 "nbformat": 4,
 "nbformat_minor": 2
}
